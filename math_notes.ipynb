{
 "cells": [
  {
   "cell_type": "markdown",
   "metadata": {},
   "source": [
    "# Math Notes\n",
    "\n",
    "*This is the place I direct my students to for help with specific problems in math and test prep.*"
   ]
  },
  {
   "cell_type": "markdown",
   "metadata": {},
   "source": [
    "## Test Geek Questions\n",
    "\n",
    "### Working with inequalities\n",
    "\n",
    "### Question 4.1\n",
    "\n",
    "Solve for *x* if $x>0$ and $|6x+4|=16$"
   ]
  },
  {
   "cell_type": "markdown",
   "metadata": {},
   "source": [
    "So, the first thing you should note about this question is that it deals with an absolute value. That is what the two vertical lines mean around the expression $6x+4$. Now, we are told that the absolute value of the expression equals 16. Now it could mean that $6x+4$ is actually 16, but it could also be the case that $6x+4$ without the brackets equals *negative* 16. That's what an absolute value does, it takes something positive and leaves it positive and it takes something negative and turns it positive. So, we set up two equations, \n",
    "$$6x+4=16$$ \n",
    "$$ 6x+4=-16$$\n",
    "Now, we just solve for x in both equations. For the first:\n",
    "$$6x+4=16$$ Subtract 4 from both sides, $$6x=12$$ now divide both sides by 6 to isolate x and we have our answer. $$x=\\frac{12}{6}=2$$ So that is our answer, $x=2$. We can solve the other equation and get $x=-\\frac{10}{3}$ but we don't have to as the problem asks us to solve for $x>0$, so we are done. Note that you can see the correct answers on page 121 of the *Solved* text book."
   ]
  },
  {
   "cell_type": "markdown",
   "metadata": {},
   "source": [
    "### 4.2\n",
    "This is the same as 4.1. We set up two equations,  \n",
    "$$3x-6=9$$ \n",
    "\n",
    "and  \n",
    "\n",
    "$$3x-6=-9$$  \n",
    "solving for the first value of x we get $3x=15$ and then, dividing both sides by 3 we get $x=5$. The second equation gives us a negative number so we can stop there. \n"
   ]
  },
  {
   "cell_type": "markdown",
   "metadata": {},
   "source": [
    "### 4.3  \n",
    "What is one possible value for *x* if $$30<x<40$$ and $$|\\frac{x}{8}|>4$$  \n",
    "Note that what is in the absolute value signs is something that can be greater than 4 or less that negative 4, so, \n",
    "$$\\frac{x}{8}>4$$ and $$\\frac{x}{8}<-4$$ \n",
    "We solve the first inequality by multiplying both sides by 8 to get $$x>32$$. There is no need to solve the second inequality because we are told that x has to be between 30 and 40 and the second equation will give us a negative number. "
   ]
  },
  {
   "cell_type": "markdown",
   "metadata": {},
   "source": [
    "### 4.4\n",
    " \n",
    "\n",
    "$$\\frac{x}{8}>\\frac{x}{4}$$  \n",
    "\n",
    "and  \n",
    "\n",
    "$$\\frac{x}{8}<-\\frac{x}{4}$$  \n",
    "\n",
    "All of the solutions just lead to cancelling out x and turning it to 1. I am not sure about this question. "
   ]
  },
  {
   "cell_type": "code",
   "execution_count": null,
   "metadata": {},
   "outputs": [],
   "source": []
  },
  {
   "cell_type": "code",
   "execution_count": null,
   "metadata": {},
   "outputs": [],
   "source": []
  },
  {
   "cell_type": "markdown",
   "metadata": {},
   "source": [
    "### 6.1  \n",
    "\n",
    "15 students participated in a school fund raiser where $$m=4.5p-.5w$$ where $m$ is the total money raised, $p$ is the number of packages sold, and $w$ is the number of weeks that the sales went on.  \n",
    "\n",
    "You are given the number of packages sold as 22 and are told the number of weeks is 4. To answer the question of how much money the fundraiser raised, you have to plug in the numbers *and then* multiply by the number of students who participated in the fundraiser, 15. "
   ]
  },
  {
   "cell_type": "code",
   "execution_count": 5,
   "metadata": {},
   "outputs": [
    {
     "data": {
      "text/plain": [
       "97.0"
      ]
     },
     "execution_count": 5,
     "metadata": {},
     "output_type": "execute_result"
    }
   ],
   "source": [
    "m = 4.5*22 - .5*4\n",
    "m"
   ]
  },
  {
   "cell_type": "code",
   "execution_count": 6,
   "metadata": {},
   "outputs": [
    {
     "data": {
      "text/plain": [
       "1455.0"
      ]
     },
     "execution_count": 6,
     "metadata": {},
     "output_type": "execute_result"
    }
   ],
   "source": [
    "#then multiply by the number of students who participated, 15\n",
    "15*m"
   ]
  },
  {
   "cell_type": "markdown",
   "metadata": {},
   "source": [
    "### 6.2  \n",
    "This is a tricky question.  \n",
    "\n",
    "They tell you that Tia works 20 hours per week. So, you can figure out what Tia's current pay rate is, $\\frac{300}{20}$ or $15$ dollars per hour. She is getting a 2 dollar per hour raise so that brings her rate up to 17 dollars per hour.   \n",
    "\n",
    "Now she wants to earn 375 dollars a week. So we could directly figure out the number of hours she has to work per week by the equation $$hours = \\frac{weekly pay}{pay rate}$$ which is $$h = \\frac{300 + 75}{17}$$ But that is not an answer choice. But look what is. Choice D is $$\\frac{300 + 75}{h} = 17$$\n",
    "That is just the equation we came up with rearranged. So choice D is the correct answer. \n"
   ]
  },
  {
   "cell_type": "code",
   "execution_count": null,
   "metadata": {},
   "outputs": [],
   "source": []
  },
  {
   "cell_type": "code",
   "execution_count": null,
   "metadata": {},
   "outputs": [],
   "source": []
  },
  {
   "cell_type": "code",
   "execution_count": null,
   "metadata": {},
   "outputs": [],
   "source": []
  },
  {
   "cell_type": "code",
   "execution_count": null,
   "metadata": {},
   "outputs": [],
   "source": []
  },
  {
   "cell_type": "code",
   "execution_count": null,
   "metadata": {},
   "outputs": [],
   "source": []
  },
  {
   "cell_type": "code",
   "execution_count": null,
   "metadata": {},
   "outputs": [],
   "source": []
  },
  {
   "cell_type": "code",
   "execution_count": null,
   "metadata": {},
   "outputs": [],
   "source": []
  }
 ],
 "metadata": {
  "kernelspec": {
   "display_name": "Python 3",
   "language": "python",
   "name": "python3"
  },
  "language_info": {
   "codemirror_mode": {
    "name": "ipython",
    "version": 3
   },
   "file_extension": ".py",
   "mimetype": "text/x-python",
   "name": "python",
   "nbconvert_exporter": "python",
   "pygments_lexer": "ipython3",
   "version": "3.7.4"
  }
 },
 "nbformat": 4,
 "nbformat_minor": 2
}
