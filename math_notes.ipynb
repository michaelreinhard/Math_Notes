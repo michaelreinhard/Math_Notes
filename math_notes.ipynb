{
 "cells": [
  {
   "cell_type": "markdown",
   "metadata": {},
   "source": [
    "# Math Notes\n",
    "\n",
    "*This is the place I direct my students to for help with specific problems in math and test prep.*"
   ]
  },
  {
   "cell_type": "markdown",
   "metadata": {},
   "source": [
    "## Test Geek Questions\n",
    "\n",
    "### Working with inequalities\n",
    "\n",
    "### Question 4.1\n",
    "\n",
    "Solve for *x* if $x>0$ and $|6x+4|=16$"
   ]
  },
  {
   "cell_type": "markdown",
   "metadata": {},
   "source": [
    "So, the first thing you should note about this question is that it deals with an absolute value. That is what the two vertical lines mean around the expression $6x+4$ mean. Now, we are told that the absolute value of the expression equals 16. Now it could mean that $6x+4$ is actually 16, but it could also be the case that $6x+4$ without the brackets equals *negative* 16. That's what an absolute value does, it takes something positive and leaves it positive and it takes something negative and turns it positive. So, we set up two equations, \n",
    "$$6x+4=16$$ \n",
    "$$ 6x+4=-16$$\n",
    "Now, we just solve for x in both equations. For the first:\n",
    "$$6x+4=16$$ Subtract 4 from both sides, $$6x=12$$ now divide both sides by 6 to isolate x and we have our answer. $$x=\\frac{12}{6}=2$$ So that is our answer, $x=2$. We can solve the other equation and get $x=-\\frac{10}{3}$ but we don't have to as the problem asks us to solve for $x>0$, so we are done. Note that you can see the correct answers on page 121 of the *Solved* text book."
   ]
  },
  {
   "cell_type": "markdown",
   "metadata": {},
   "source": [
    "### 4.2\n",
    "This is the same as 4.1. We set up two equations,  \n",
    "$$3x-6=9$$ \n",
    "\n",
    "and  \n",
    "\n",
    "$$3x-6=-9$$  \n",
    "solving for the first value of x we get $3x=15$ and then, dividing both sides by 3 we get $x=5$. The second equation gives us a negative number so we can stop there. \n"
   ]
  },
  {
   "cell_type": "markdown",
   "metadata": {},
   "source": [
    "### 4.3  \n",
    "What is one possible value for *x* if $$30<x<40$$ and $$|\\frac{x}{8}|>4$$  \n",
    "Note that what is in the absolute value signs is something that can be greater than 4 or less that negative 4, so, \n",
    "$$\\frac{x}{8}>4$$ and $$\\frac{x}{8}<-4$$ \n",
    "We solve the first inequality by multiplying both sides by 8 to get $$x>32$$. There is no need to solve the second inequality because we are told that x has to be between 30 and 40 and the second equation will give us a negative number. "
   ]
  },
  {
   "cell_type": "markdown",
   "metadata": {},
   "source": [
    "### 4.4\n",
    " \n",
    "\n",
    "$$\\frac{x}{8}>\\frac{x}{4}$$  \n",
    "\n",
    "and  \n",
    "\n",
    "$$\\frac{x}{8}<-\\frac{x}{4}$$  \n",
    "\n",
    "All of the solutions just lead to cancelling out x and turning it to 1. I am not sure about this question. "
   ]
  },
  {
   "cell_type": "code",
   "execution_count": null,
   "metadata": {},
   "outputs": [],
   "source": []
  },
  {
   "cell_type": "code",
   "execution_count": null,
   "metadata": {},
   "outputs": [],
   "source": []
  },
  {
   "cell_type": "markdown",
   "metadata": {},
   "source": [
    "### 6.1  \n",
    "\n",
    "15 students participated in a school fund raiser where $$m=4.5p-.5w$$ where $m$ is the total money raised, $p$ is the number of packages sold, and $w$ is the number of weeks that the sales went on.  \n",
    "\n",
    "You are given the number of packages sold as 22 and are told the number of weeks is 4. To answer the question of how much money the fundraiser raised, you have to plug in the numbers *and then* multiply by the number of students who participated in the fundraiser, 15. "
   ]
  },
  {
   "cell_type": "code",
   "execution_count": 5,
   "metadata": {},
   "outputs": [
    {
     "data": {
      "text/plain": [
       "97.0"
      ]
     },
     "execution_count": 5,
     "metadata": {},
     "output_type": "execute_result"
    }
   ],
   "source": [
    "m = 4.5*22 - .5*4\n",
    "m"
   ]
  },
  {
   "cell_type": "code",
   "execution_count": 6,
   "metadata": {},
   "outputs": [
    {
     "data": {
      "text/plain": [
       "1455.0"
      ]
     },
     "execution_count": 6,
     "metadata": {},
     "output_type": "execute_result"
    }
   ],
   "source": [
    "#then multiply by the number of students who participated, 15\n",
    "15*m"
   ]
  },
  {
   "cell_type": "markdown",
   "metadata": {},
   "source": [
    "### 6.2  \n",
    "This is a tricky question.  \n",
    "\n",
    "They tell you that Tia works 20 hours per week. So, you can figure out what Tia's current pay rate is, $\\frac{300}{20}$ or $15$ dollars per hour. She is getting a 2 dollar per hour raise so that brings her rate up to 17 dollars per hour.   \n",
    "\n",
    "Now she wants to earn 375 dollars a week. So we could directly figure out the number of hours she has to work per week by the equation $$hours = \\frac{weekly pay}{pay rate}$$ which is $$h = \\frac{300 + 75}{17}$$ But that is not an answer choice. But look what is. Choice D is $$\\frac{300 + 75}{h} = 17$$\n",
    "That is just the equation we came up with rearranged. So choice D is the correct answer. \n"
   ]
  },
  {
   "cell_type": "code",
   "execution_count": null,
   "metadata": {},
   "outputs": [],
   "source": []
  },
  {
   "cell_type": "code",
   "execution_count": null,
   "metadata": {},
   "outputs": [],
   "source": []
  },
  {
   "cell_type": "code",
   "execution_count": null,
   "metadata": {},
   "outputs": [],
   "source": []
  },
  {
   "cell_type": "code",
   "execution_count": null,
   "metadata": {},
   "outputs": [],
   "source": []
  },
  {
   "cell_type": "code",
   "execution_count": null,
   "metadata": {},
   "outputs": [],
   "source": []
  },
  {
   "cell_type": "code",
   "execution_count": null,
   "metadata": {},
   "outputs": [],
   "source": []
  },
  {
   "cell_type": "markdown",
   "metadata": {},
   "source": [
    "Now we have a farmer that has 240 units of fence and he wants to build a fence that has the maximum possible area. Now that means that the perimeter will be 240 units and we have to adjust the *l* and *w* so that the Area will be as great as possible. We know that $$Area = l * w$$  \n",
    "\n",
    "We also know that $$Perimeter=2(l+w)$$  \n",
    "\n",
    "How can we combine these two pieces of information to determine what is the largest possible area? \n",
    "\n",
    "Well, we know that the formula for perimeter can be rearranged to state all of the variable in terms of l. $$2l + 2w = P$$ can be rearranged to $$2l = P - 2w$$  \n",
    "\n",
    "Then divide by 2  \n",
    "\n",
    "$$l = \\frac{P}{2} - w$$  \n",
    "\n",
    "But what we are trying to do is slove for w in terms of l and P.  \n",
    "\n",
    "$$2w = P - 2l$$  \n",
    "\n",
    "Divide by 2.  \n",
    "\n",
    "$$w = \\frac{P}{2} - l$$  \n",
    "\n",
    "Now we can substitute in that expression for w into the equation we have for area.  \n",
    "\n",
    "$$Area = l * (\\frac{P}{2}-l)$$ where P = Perimeter. This we can turn into a function and graph. "
   ]
  },
  {
   "cell_type": "code",
   "execution_count": 38,
   "metadata": {},
   "outputs": [
    {
     "data": {
      "text/plain": [
       "<matplotlib.axes._subplots.AxesSubplot at 0x11e33b6d0>"
      ]
     },
     "execution_count": 38,
     "metadata": {},
     "output_type": "execute_result"
    },
    {
     "data": {
      "image/png": "[encoded data removed]",
      "text/plain": [
       "<Figure size 432x288 with 1 Axes>"
      ]
     },
     "metadata": {
      "needs_background": "light"
     },
     "output_type": "display_data"
    }
   ],
   "source": [
    "import numpy as np\n",
    "import pandas as pd\n",
    "\n",
    "l_list = np.arange(10, 125, 5)\n",
    "w_list = []\n",
    "\n",
    "area = []\n",
    "\n",
    "for l in l_list:\n",
    "    w_list.append(120-l)\n",
    "    area.append(l*(120-l))\n",
    "\n",
    "# w_np_list = np.array(w_list)\n",
    "# areas_np = np.array(areas)\n",
    "\n",
    "areas=pd.DataFrame(data={'length':l_list,'width': w_list, 'area': area})\n",
    "areas.plot(x='length', y='area')"
   ]
  },
  {
   "cell_type": "code",
   "execution_count": 56,
   "metadata": {},
   "outputs": [
    {
     "name": "stdout",
     "output_type": "stream",
     "text": [
      "      x      y\n",
      "7  -6.5   6.75\n",
      "8  -6.0   4.00\n",
      "9  -5.5   1.75\n",
      "10 -5.0   0.00\n",
      "11 -4.5  -1.25\n",
      "12 -4.0  -2.00\n",
      "13 -3.5  -2.25\n",
      "14 -3.0  -2.00\n",
      "15 -2.5  -1.25\n",
      "16 -2.0   0.00\n",
      "17 -1.5   1.75\n",
      "18 -1.0   4.00\n",
      "19 -0.5   6.75\n",
      "20  0.0  10.00\n"
     ]
    }
   ],
   "source": [
    "#problem 29\n",
    "x_values = np.arange(-10, 2, 0.5)\n",
    "\n",
    "\n",
    "y_values = []\n",
    "\n",
    "for x in x_values:\n",
    "    \n",
    "    \n",
    "    y = x*x + 7*x + 10\n",
    "    \n",
    "    y_values.append(y)\n",
    "    \n",
    "df = pd.DataFrame({'x':x_values, 'y':y_values})\n",
    "\n",
    "print(df.loc[7:20,:])"
   ]
  },
  {
   "cell_type": "code",
   "execution_count": 51,
   "metadata": {},
   "outputs": [
    {
     "data": {
      "text/plain": [
       "<matplotlib.axes._subplots.AxesSubplot at 0x11e4ea710>"
      ]
     },
     "execution_count": 51,
     "metadata": {},
     "output_type": "execute_result"
    },
    {
     "data": {
      "image/png": "[encoded data removed]",
      "text/plain": [
       "<Figure size 432x288 with 1 Axes>"
      ]
     },
     "metadata": {
      "needs_background": "light"
     },
     "output_type": "display_data"
    }
   ],
   "source": [
    "df.plot('x','y')"
   ]
  },
  {
   "cell_type": "code",
   "execution_count": 59,
   "metadata": {},
   "outputs": [
    {
     "data": {
      "text/plain": [
       "-24.5"
      ]
     },
     "execution_count": 59,
     "metadata": {},
     "output_type": "execute_result"
    }
   ],
   "source": [
    "3.5*3.5\n",
    "7*-3.5"
   ]
  },
  {
   "cell_type": "markdown",
   "metadata": {},
   "source": [
    "Calculate the surface area you use the formula $$2 \\pi r (h+r)$$"
   ]
  },
  {
   "cell_type": "code",
   "execution_count": 70,
   "metadata": {},
   "outputs": [
    {
     "data": {
      "text/plain": [
       "75.39822368615503"
      ]
     },
     "execution_count": 70,
     "metadata": {},
     "output_type": "execute_result"
    }
   ],
   "source": [
    "import math\n",
    "\n",
    "r = 2\n",
    "h = 4\n",
    "\n",
    "2*math.pi*r*(h+r)"
   ]
  },
  {
   "cell_type": "markdown",
   "metadata": {},
   "source": [
    "Calculate the volume of a cylinder you use the formula $$V=\\pi r^2 h$$"
   ]
  },
  {
   "cell_type": "code",
   "execution_count": 71,
   "metadata": {},
   "outputs": [
    {
     "data": {
      "text/plain": [
       "50.26548245743669"
      ]
     },
     "execution_count": 71,
     "metadata": {},
     "output_type": "execute_result"
    }
   ],
   "source": [
    "\n",
    "math.pi*r*r*h"
   ]
  },
  {
   "cell_type": "code",
   "execution_count": 72,
   "metadata": {},
   "outputs": [
    {
     "data": {
      "text/plain": [
       "4"
      ]
     },
     "execution_count": 72,
     "metadata": {},
     "output_type": "execute_result"
    }
   ],
   "source": [
    "2+2\n"
   ]
  },
  {
   "cell_type": "code",
   "execution_count": null,
   "metadata": {},
   "outputs": [],
   "source": []
  },
  {
   "cell_type": "code",
   "execution_count": null,
   "metadata": {},
   "outputs": [],
   "source": []
  }
 ],
 "metadata": {
  "kernelspec": {
   "display_name": "Python 3",
   "language": "python",
   "name": "python3"
  },
  "language_info": {
   "codemirror_mode": {
    "name": "ipython",
    "version": 3
   },
   "file_extension": ".py",
   "mimetype": "text/x-python",
   "name": "python",
   "nbconvert_exporter": "python",
   "pygments_lexer": "ipython3",
   "version": "3.7.4"
  }
 },
 "nbformat": 4,
 "nbformat_minor": 2
}
