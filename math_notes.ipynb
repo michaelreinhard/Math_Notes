{
 "cells": [
  {
   "cell_type": "markdown",
   "metadata": {},
   "source": [
    "## Math Notes\n",
    "\n",
    "*This is the place I direct my students to for help with specific problems in math and test prep.*"
   ]
  },
  {
   "cell_type": "markdown",
   "metadata": {},
   "source": [
    "### Test Geek Questions\n",
    "\n",
    "#### Working with inequalities\n",
    "\n",
    "##### Question 4.1\n",
    "\n",
    "Solve for *x* if $x>0$ and $|6x+4|=16$"
   ]
  },
  {
   "cell_type": "markdown",
   "metadata": {},
   "source": [
    "So, the first thing you should note about this question is that it deals with an absolute value. That is what the two vertical lines mean around the expression $6x+4$. Now, we are told that the absolute value of the expression equals 16. Now it could mean that $6x+4$ is actually 16, but it could also be the case that $6x+4$ without the brackets equals *negative* 16. That's what an absolute value does, it takes something positive and leaves it positive and it takes something negative and turns it positive. So, we set up two equations, \n",
    "$$6x+4=16$$ \n",
    "$$ 6x+4=-16$$\n",
    "Now, we just solve for x in both equations. For the first:\n",
    "$$6x+4=16$$ Subtract 4 from both sides, $$6x=12$$ now divide both sides by 6 to isolate x and we have our answer. $$x=\\frac{12}{6}=2$$ So that is our answer, $x=2$. We can solve the other equation and get $x=-\\frac{10}{3}$ but we don't have to as the problem asks us to solve for $x>0$, so we are done. Note that you can see the correct answers on page 121 of the *Solved* text book."
   ]
  },
  {
   "cell_type": "code",
   "execution_count": null,
   "metadata": {},
   "outputs": [],
   "source": []
  }
 ],
 "metadata": {
  "kernelspec": {
   "display_name": "Python 3",
   "language": "python",
   "name": "python3"
  },
  "language_info": {
   "codemirror_mode": {
    "name": "ipython",
    "version": 3
   },
   "file_extension": ".py",
   "mimetype": "text/x-python",
   "name": "python",
   "nbconvert_exporter": "python",
   "pygments_lexer": "ipython3",
   "version": "3.7.4"
  }
 },
 "nbformat": 4,
 "nbformat_minor": 2
}
